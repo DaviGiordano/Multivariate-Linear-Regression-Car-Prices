{
 "cells": [
  {
   "cell_type": "code",
   "execution_count": 12,
   "metadata": {},
   "outputs": [],
   "source": [
    "from pandas import get_dummies\n",
    "import pandas as pd\n",
    "import matplotlib.pyplot as plt\n",
    "import numpy as np\n",
    "from typing import Tuple"
   ]
  },
  {
   "attachments": {},
   "cell_type": "markdown",
   "metadata": {},
   "source": [
    "<h1>Functions</h1>"
   ]
  },
  {
   "cell_type": "code",
   "execution_count": 13,
   "metadata": {},
   "outputs": [],
   "source": [
    "def normalize_and_get_dummies(data: pd.DataFrame) -> pd.DataFrame:\n",
    "    \"\"\"Normalizes year and odometer and encodes categorical variables into dummy variables\"\"\"\n",
    "    \n",
    "    data = get_dummies(data)\n",
    "\n",
    "    #Normalizing the numerical variables\n",
    "    data['year'] = (data['year'] - 2001)\n",
    "    data['odometer'] = (data['odometer'] - data['odometer'].min()) / (data['odometer'].max() - data['odometer'].min())\n",
    "    \n",
    "    return data"
   ]
  },
  {
   "cell_type": "code",
   "execution_count": 14,
   "metadata": {},
   "outputs": [],
   "source": [
    "def remove_categories(data: pd.DataFrame) -> pd.DataFrame:\n",
    "    \"\"\"Removes categories according to EDA\"\"\"\n",
    "    #Creating the size_type feature\n",
    "    data['size_type'] = data['size']+\"-\"+data['type']\n",
    "\n",
    "    #Dropping size, cylinders, type, fuel and transmission, after EDA\n",
    "    data.drop(columns=['size', 'cylinders', 'type', 'fuel', 'transmission'], inplace=True)\n",
    "\n",
    "    return data"
   ]
  },
  {
   "cell_type": "code",
   "execution_count": 15,
   "metadata": {},
   "outputs": [],
   "source": [
    "def add_year_squared(data: pd.DataFrame) -> pd.DataFrame:\n",
    "    \"\"\"Adds one column of the value of the year squared\"\"\"\n",
    "    \n",
    "    data.insert(2, 'year_squared',data['year']**2)\n",
    "    \n",
    "    return data"
   ]
  },
  {
   "cell_type": "code",
   "execution_count": 16,
   "metadata": {},
   "outputs": [],
   "source": [
    "def transformations(data: pd.DataFrame, are_cat_removed:bool, is_year_squared: bool) -> pd.DataFrame:\n",
    "    \"\"\"Pipeline with remove_categories, normalizing, getting dummies transformations\n",
    "    if add_year_squared is true, adds a collumn with the year squared\"\"\"\n",
    "\n",
    "    if(are_cat_removed == True):    \n",
    "        data = remove_categories(data)\n",
    "\n",
    "    if(is_year_squared == True):\n",
    "        data = add_year_squared(data)\n",
    "\n",
    "    data = normalize_and_get_dummies(data)\n",
    "    \n",
    "    return data"
   ]
  },
  {
   "cell_type": "code",
   "execution_count": 17,
   "metadata": {},
   "outputs": [],
   "source": [
    "# v_clean_test = pd.read_csv(\"./vehicles_cleaned_test.csv\")\n",
    "# v_clean = pd.read_csv(\"./vehicles_cleaned_train.csv\")    \n",
    "\n",
    "# v_clean_transf = transformations(data=v_clean, rmv_categories=True, add_year_sqrd=False)\n",
    "# print(v_clean_transf)\n"
   ]
  },
  {
   "cell_type": "code",
   "execution_count": 18,
   "metadata": {},
   "outputs": [],
   "source": [
    "def get_arrays(data: pd.DataFrame) -> Tuple[np.ndarray, np.ndarray]:\n",
    "    \"\"\" Recieves the clean data frame and returns matrix X and array d, according to the course's definitions\"\"\"\n",
    "\n",
    "     # Column vector with prices\n",
    "    d = data['price']\n",
    "\n",
    "    # Data matrix (all features except prices)\n",
    "    data.drop('price', axis=1, inplace=True)\n",
    "    X = data\n",
    "\n",
    "    return X.to_numpy(), d.to_numpy()"
   ]
  },
  {
   "cell_type": "code",
   "execution_count": 19,
   "metadata": {},
   "outputs": [],
   "source": [
    "def regression(X: np.ndarray, d: np.ndarray) -> Tuple[np.ndarray, np.ndarray]:\n",
    "    # Method showed in class\n",
    "    R = X.T @ X\n",
    "    p = X.T @ d\n",
    "    wo = np.linalg.solve(R,p)\n",
    "    fitting_error = d - X @ wo\n",
    "\n",
    "    return wo, fitting_error"
   ]
  },
  {
   "cell_type": "code",
   "execution_count": 20,
   "metadata": {},
   "outputs": [],
   "source": [
    "are_cat_removed_vals = [True, False]\n",
    "is_year_squared_vals = [True, False]"
   ]
  },
  {
   "cell_type": "code",
   "execution_count": 21,
   "metadata": {},
   "outputs": [],
   "source": [
    "v_clean_train = pd.read_csv(\"./vehicles_cleaned_train.csv\")    \n",
    "v_clean_test = pd.read_csv(\"./vehicles_cleaned_test.csv\")"
   ]
  },
  {
   "cell_type": "code",
   "execution_count": 23,
   "metadata": {},
   "outputs": [
    {
     "name": "stdout",
     "output_type": "stream",
     "text": [
      "---- remove_categories: True, add_year_squared: True ----\n",
      "Fitting MSE error: 28678962.344645835\n",
      "Fitting RMSE error: 5355.27425484875\n",
      "Evaluating MSE error: 27365926.43329515\n",
      "Evaluating RMSE error: 5231.245208675956\n",
      "---- remove_categories: True, add_year_squared: False ----\n",
      "Fitting MSE error: 28960469.86187793\n",
      "Fitting RMSE error: 5381.493274350339\n",
      "Evaluating MSE error: 27599592.4528602\n",
      "Evaluating RMSE error: 5253.531426846155\n",
      "---- remove_categories: False, add_year_squared: True ----\n",
      "Fitting MSE error: 27218338.30753545\n",
      "Fitting RMSE error: 5217.119732911585\n",
      "Evaluating MSE error: 25588037.897443153\n",
      "Evaluating RMSE error: 5058.46200909359\n",
      "---- remove_categories: False, add_year_squared: False ----\n",
      "Fitting MSE error: 27519261.919665784\n",
      "Fitting RMSE error: 5245.880471347568\n",
      "Evaluating MSE error: 25857605.28760358\n",
      "Evaluating RMSE error: 5085.037392940545\n"
     ]
    }
   ],
   "source": [
    "for are_cat_removed_val in are_cat_removed_vals:\n",
    "    for is_year_squared_val in is_year_squared_vals:\n",
    "        print(f\"---- remove_categories: {are_cat_removed_val}, add_year_squared: {is_year_squared_val} ----\")\n",
    "        # Fitting the linear model\n",
    "        v_clean_train = pd.read_csv(\"./vehicles_cleaned_train.csv\")    \n",
    "        v_clean_test = pd.read_csv(\"./vehicles_cleaned_test.csv\")\n",
    "        train_data = v_clean_train\n",
    "        train_data_transf = transformations(data=train_data, are_cat_removed=are_cat_removed_val, is_year_squared=is_year_squared_val)\n",
    "        X_train, d_train = get_arrays(data=train_data_transf)\n",
    "        wo, fitting_error = regression(X=X_train, d=d_train)\n",
    "        print(f\"Fitting MSE error: {np.mean(fitting_error**2)}\")\n",
    "        print(f\"Fitting RMSE error: {np.sqrt(np.mean(fitting_error**2))}\")\n",
    "\n",
    "        #Evaluating the linear model\n",
    "        test_data = v_clean_test\n",
    "        test_data_transf = transformations(data=test_data, are_cat_removed=are_cat_removed_val, is_year_squared=is_year_squared_val)\n",
    "        X_test, d_test = get_arrays(data=test_data_transf)\n",
    "        prices_prediction = X_test @ wo\n",
    "        print(f\"Evaluating MSE error: {np.mean((prices_prediction - d_test)**2)}\")\n",
    "        print(f\"Evaluating RMSE error: {np.sqrt(np.mean((prices_prediction - d_test)**2))}\")"
   ]
  },
  {
   "cell_type": "code",
   "execution_count": null,
   "metadata": {},
   "outputs": [
    {
     "ename": "NameError",
     "evalue": "name 'sqrt_error_all_train_1' is not defined",
     "output_type": "error",
     "traceback": [
      "\u001b[1;31m---------------------------------------------------------------------------\u001b[0m",
      "\u001b[1;31mNameError\u001b[0m                                 Traceback (most recent call last)",
      "Cell \u001b[1;32mIn[40], line 1\u001b[0m\n\u001b[1;32m----> 1\u001b[0m sqrt_error_all_train \u001b[39m=\u001b[39m [sqrt_error_all_train_1, sqrt_error_all_train_2]\n\u001b[0;32m      2\u001b[0m sqrt_error_train \u001b[39m=\u001b[39m [sqrt_error_train_1, sqrt_error_train_2]\n\u001b[0;32m      3\u001b[0m index \u001b[39m=\u001b[39m [\u001b[39m1\u001b[39m, \u001b[39m2\u001b[39m]\n",
      "\u001b[1;31mNameError\u001b[0m: name 'sqrt_error_all_train_1' is not defined"
     ]
    }
   ],
   "source": [
    "sqrt_error_all_train = [sqrt_error_all_train_1, sqrt_error_all_train_2]\n",
    "sqrt_error_train = [sqrt_error_train_1, sqrt_error_train_2]\n",
    "index = [1, 2]\n",
    "sqrt_error_df = pd.DataFrame({'Train RMSE - All Categories' : sqrt_error_all_train, 'Train RMSE - Remove Categories' : sqrt_error_train}, index = index)\n",
    "ax = sqrt_error_df.plot.bar(rot=0, figsize = (8,8), legend = False)\n",
    "plt.ylabel('RMSE')\n",
    "plt.xlabel('m (exponent)')\n",
    "plt.title('RMSE using Test dataset')\n",
    "plt.legend(loc = 'lower right')\n",
    "plt.show()\n",
    "display(sqrt_error_df)"
   ]
  },
  {
   "cell_type": "code",
   "execution_count": null,
   "metadata": {},
   "outputs": [
    {
     "data": {
      "image/png": "[encoded data removed]",
      "text/plain": [
       "<Figure size 800x800 with 1 Axes>"
      ]
     },
     "metadata": {},
     "output_type": "display_data"
    },
    {
     "data": {
      "text/html": [
       "<div>\n",
       "<style scoped>\n",
       "    .dataframe tbody tr th:only-of-type {\n",
       "        vertical-align: middle;\n",
       "    }\n",
       "\n",
       "    .dataframe tbody tr th {\n",
       "        vertical-align: top;\n",
       "    }\n",
       "\n",
       "    .dataframe thead th {\n",
       "        text-align: right;\n",
       "    }\n",
       "</style>\n",
       "<table border=\"1\" class=\"dataframe\">\n",
       "  <thead>\n",
       "    <tr style=\"text-align: right;\">\n",
       "      <th></th>\n",
       "      <th>Test RMSE - All Categories</th>\n",
       "      <th>Test RMSE - Remove Categories</th>\n",
       "    </tr>\n",
       "  </thead>\n",
       "  <tbody>\n",
       "    <tr>\n",
       "      <th>1</th>\n",
       "      <td>5085.037393</td>\n",
       "      <td>5253.531427</td>\n",
       "    </tr>\n",
       "    <tr>\n",
       "      <th>2</th>\n",
       "      <td>5058.462002</td>\n",
       "      <td>5231.245213</td>\n",
       "    </tr>\n",
       "  </tbody>\n",
       "</table>\n",
       "</div>"
      ],
      "text/plain": [
       "   Test RMSE - All Categories  Test RMSE - Remove Categories\n",
       "1                 5085.037393                    5253.531427\n",
       "2                 5058.462002                    5231.245213"
      ]
     },
     "metadata": {},
     "output_type": "display_data"
    }
   ],
   "source": [
    "sqrt_error_all_test = [sqrt_error_all_test_1, sqrt_error_all_test_2]\n",
    "sqrt_error_test = [sqrt_error_test_1, sqrt_error_test_2]\n",
    "index = [1, 2]\n",
    "sqrt_error_df = pd.DataFrame({'Test RMSE - All Categories' : sqrt_error_all_test, 'Test RMSE - Remove Categories' : sqrt_error_test}, index = index)\n",
    "ax = sqrt_error_df.plot.bar(rot=0, figsize = (8,8), legend = False)\n",
    "plt.ylabel('RMSE')\n",
    "plt.xlabel('m (exponent)')\n",
    "plt.title('RMSE using Test dataset')\n",
    "plt.legend(loc = 'lower right')\n",
    "plt.show()\n",
    "display(sqrt_error_df)"
   ]
  },
  {
   "attachments": {},
   "cell_type": "markdown",
   "metadata": {},
   "source": [
    "<h4>Conclusion: Use all categories and m = 2 may be one of the optimal solutions</h4>"
   ]
  }
 ],
 "metadata": {
  "kernelspec": {
   "display_name": "Python 3",
   "language": "python",
   "name": "python3"
  },
  "language_info": {
   "codemirror_mode": {
    "name": "ipython",
    "version": 3
   },
   "file_extension": ".py",
   "mimetype": "text/x-python",
   "name": "python",
   "nbconvert_exporter": "python",
   "pygments_lexer": "ipython3",
   "version": "3.11.0"
  },
  "orig_nbformat": 4
 },
 "nbformat": 4,
 "nbformat_minor": 2
}
